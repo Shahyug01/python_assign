{
 "cells": [
  {
   "cell_type": "code",
   "execution_count": 2,
   "metadata": {},
   "outputs": [
    {
     "name": "stdout",
     "output_type": "stream",
     "text": [
      "Enter Operation you want to perform:\n",
      "30.0\n",
      "Enter Operation you want to perform:\n",
      "10.0\n",
      "Enter Operation you want to perform:\n",
      "4.0\n",
      "Enter Operation you want to perform:\n",
      "Exited successfully!\n"
     ]
    }
   ],
   "source": [
    "ret=False\n",
    "while ret==False:\n",
    " print(\"Enter Operation you want to perform:\")\n",
    " operation=input(\"+,-,/,*,**,%,//,x:\")\n",
    " if operation=='x': \n",
    "    print(\"Exited successfully!\")\n",
    "    break\n",
    " a=float(input(\"Enter first number:\"))\n",
    " b=float(input(\"Enter second number:\"))\n",
    " \n",
    " if operation=='+':\n",
    "    result=a+b\n",
    "    print(result)\n",
    " elif operation=='-':\n",
    "    result=a-b\n",
    "    print(result)\n",
    " elif operation=='*':\n",
    "    result=a*b\n",
    "    print(result)\n",
    " elif operation==\"/\":\n",
    "    result=a/b\n",
    "    print(result)\n",
    " elif operation=='**':\n",
    "     result=a**b\n",
    "     print(result)\n",
    " elif operation=='%':\n",
    "     result=a%b\n",
    "     print(result)\n",
    " elif operation=='//':\n",
    "     result=a//b\n",
    "     print(result)\n",
    "else:\n",
    "   print(\"Operations completed\")\n"
   ]
  },
  {
   "cell_type": "code",
   "execution_count": 1,
   "metadata": {},
   "outputs": [
    {
     "name": "stdout",
     "output_type": "stream",
     "text": [
      "Enter conversion you want to perform\n",
      "Celcius to fahrenheit: 1\n",
      "farhenheit to celcius: 2\n",
      "Exit: x\n",
      "celcius to fahrenheit : 212.0\n",
      "Enter conversion you want to perform\n",
      "Celcius to fahrenheit: 1\n",
      "farhenheit to celcius: 2\n",
      "Exit: x\n",
      "fahrenheit to celcius : 100.0\n",
      "Enter conversion you want to perform\n",
      "Celcius to fahrenheit: 1\n",
      "farhenheit to celcius: 2\n",
      "Exit: x\n",
      "Exited Successfully:\n"
     ]
    }
   ],
   "source": [
    "ret =True\n",
    "while ret==True:\n",
    "    print(\"Enter conversion you want to perform\")\n",
    "    print(\"Celcius to fahrenheit: 1\")\n",
    "    print(\"farhenheit to celcius: 2\")\n",
    "    print(\"Exit: x\")\n",
    "    operation=input(\"Enter your operation:\")\n",
    "    if operation=='x':\n",
    "        print(\"Exited Successfully:\")\n",
    "        break\n",
    "    if operation=='1':\n",
    "        C=float(input(\"Enter Temperature in Celcius\"))\n",
    "        F=(1.8*C)+32\n",
    "        print(\"celcius to fahrenheit :\",F)\n",
    "    elif operation=='2':\n",
    "     F=float(input(\"Enter Temperature in fahrenheit\"))\n",
    "     C=(F-32)*5/9  \n",
    "     print(\"fahrenheit to celcius :\",C)"
   ]
  }
 ],
 "metadata": {
  "kernelspec": {
   "display_name": "Python 3",
   "language": "python",
   "name": "python3"
  },
  "language_info": {
   "codemirror_mode": {
    "name": "ipython",
    "version": 3
   },
   "file_extension": ".py",
   "mimetype": "text/x-python",
   "name": "python",
   "nbconvert_exporter": "python",
   "pygments_lexer": "ipython3",
   "version": "3.11.3"
  }
 },
 "nbformat": 4,
 "nbformat_minor": 2
}
